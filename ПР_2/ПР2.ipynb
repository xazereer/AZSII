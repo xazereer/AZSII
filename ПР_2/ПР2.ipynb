{
 "cells": [
  {
   "cell_type": "markdown",
   "id": "4d4eb73f",
   "metadata": {},
   "source": [
    "Практика 1: Исследование атак на модели ИИ. Fast Gradient Sign Method (FGSM)\n",
    "\n",
    "Буланов Андрей Алексеевич ББМО-01-23\n",
    "\n",
    "Цель задания: Познакомиться с одной из популярных атак на системы машинного обучения — атакой Fast Gradient Sign Method (FGSM). Задача — научиться использовать FGSM для создания противоречивых (adversarial) примеров, которые могут ввести обученную модель в заблуждение\n",
    "\n",
    "Задачи:\n",
    "\n",
    "1. Загрузить ранее обученную модель на датасете MNIST.\n",
    "2. Изучить теоретические основы FGSM.\n",
    "3. Реализовать атаку FGSM и сгенерировать противоречивые примеры.\n",
    "4. Оценить точность модели на противоречивых примерах и сравнить с результатами на обычных данных."
   ]
  },
  {
   "cell_type": "code",
   "execution_count": 1,
   "id": "54dab415-db38-49d6-bd9f-acf07712eb98",
   "metadata": {},
   "outputs": [],
   "source": [
    "# Импорт всех необходимых библеотек\n",
    "import tensorflow as tf\n",
    "from tensorflow.keras.datasets import mnist\n",
    "from tensorflow.keras.utils import to_categorical\n",
    "import numpy as np\n",
    "import matplotlib.pyplot as plt"
   ]
  },
  {
   "cell_type": "code",
   "execution_count": 3,
   "id": "0f04cb8c-c47b-4a31-b4f2-0687cb196123",
   "metadata": {},
   "outputs": [
    {
     "name": "stderr",
     "output_type": "stream",
     "text": [
      "WARNING:absl:Compiled the loaded model, but the compiled metrics have yet to be built. `model.compile_metrics` will be empty until you train or evaluate the model.\n"
     ]
    },
    {
     "name": "stdout",
     "output_type": "stream",
     "text": [
      "\u001b[1m313/313\u001b[0m \u001b[32m━━━━━━━━━━━━━━━━━━━━\u001b[0m\u001b[37m\u001b[0m \u001b[1m0s\u001b[0m 968us/step - accuracy: 0.9723 - loss: 0.0923\n",
      "Точность на чистых изображениях: 0.9759\n"
     ]
    }
   ],
   "source": [
    "# Загрузка тестовых данных MNIST\n",
    "(_, _), (test_images, test_labels) = mnist.load_data()\n",
    "\n",
    "# Нормализация данных\n",
    "test_images = test_images / 255.0\n",
    "\n",
    "# Загрузка обученной модели\n",
    "model = tf.keras.models.load_model('mnist_model.h5')\n",
    "\n",
    "# Скомпилируем модель, чтобы избежать предупреждения\n",
    "model.compile(optimizer='adam', loss='sparse_categorical_crossentropy', metrics=['accuracy'])\n",
    "\n",
    "# Проверка точности модели на обычных данных\n",
    "test_loss, test_acc = model.evaluate(test_images.reshape(-1, 28, 28, 1), test_labels)\n",
    "print(f'Точность на чистых изображениях: {test_acc:.4f}')"
   ]
  },
  {
   "cell_type": "code",
   "execution_count": 4,
   "id": "f95b7249-949b-4357-b9c1-3d060bd9b092",
   "metadata": {},
   "outputs": [
    {
     "data": {
      "image/png": "[encoded data removed]",
      "text/plain": [
       "<Figure size 640x480 with 2 Axes>"
      ]
     },
     "metadata": {},
     "output_type": "display_data"
    }
   ],
   "source": [
    "# Функция для реализации FGSM атаки\n",
    "def fgsm_attack(image, epsilon, gradient):\n",
    "    # Применение знака градиента к изображению\n",
    "    perturbed_image = image + epsilon * np.sign(gradient)\n",
    "    # Обрезка значений, чтобы они оставались в пределах [0,1]\n",
    "    perturbed_image = np.clip(perturbed_image, 0, 1)\n",
    "    return perturbed_image\n",
    "\n",
    "# Вычисление градиента\n",
    "def generate_adversarial_example(model, image, label, epsilon):\n",
    "    # Приведение изображения к нужному формату\n",
    "    image = tf.convert_to_tensor(image.reshape((1, 28, 28, 1)))\n",
    "    label = tf.convert_to_tensor(label)\n",
    "\n",
    "    with tf.GradientTape() as tape:\n",
    "        tape.watch(image)\n",
    "        prediction = model(image)\n",
    "        # Применение функции потерь\n",
    "        loss = tf.keras.losses.sparse_categorical_crossentropy(label[None], prediction)\n",
    "\n",
    "    # Получение градиента по отношению к входному изображению\n",
    "    gradient = tape.gradient(loss, image)\n",
    "    # Применение FGSM\n",
    "    adversarial_image = fgsm_attack(image.numpy(), epsilon, gradient.numpy())\n",
    "    return adversarial_image\n",
    "\n",
    "# Пример использования\n",
    "epsilon = 0.1  # Величина шума\n",
    "adversarial_example = generate_adversarial_example(model, test_images[0], test_labels[0], epsilon)\n",
    "\n",
    "# Вывод результатов\n",
    "plt.figure()\n",
    "plt.subplot(1, 2, 1)\n",
    "plt.title(\"Оригинальное изображение\")\n",
    "plt.imshow(test_images[0], cmap=\"gray\")\n",
    "plt.subplot(1, 2, 2)\n",
    "plt.title(\"Противоречивое изображение\")\n",
    "plt.imshow(adversarial_example.reshape(28, 28), cmap=\"gray\")\n",
    "plt.show()"
   ]
  },
  {
   "cell_type": "code",
   "execution_count": 5,
   "id": "ecf90346",
   "metadata": {},
   "outputs": [
    {
     "name": "stdout",
     "output_type": "stream",
     "text": [
      "\u001b[1m313/313\u001b[0m \u001b[32m━━━━━━━━━━━━━━━━━━━━\u001b[0m\u001b[37m\u001b[0m \u001b[1m0s\u001b[0m 974us/step - accuracy: 0.0918 - loss: 6.9379\n",
      "Точность на противоречивых примерах: 0.1233\n"
     ]
    }
   ],
   "source": [
    "# Генерация противоречивых примеров для всего набора данных\n",
    "def generate_adversarial_dataset(model, images, labels, epsilon):\n",
    "    adversarial_images = []\n",
    "    for i in range(len(images)):\n",
    "        # Генерация противоречивого изображения\n",
    "        adv_image = generate_adversarial_example(model, images[i], labels[i], epsilon)\n",
    "        adversarial_images.append(adv_image)\n",
    "\n",
    "    return np.array(adversarial_images)\n",
    "\n",
    "# Генерация противоречивых примеров\n",
    "adversarial_images = generate_adversarial_dataset(model, test_images, test_labels, epsilon)\n",
    "\n",
    "# Оценка модели на противоречивых примерах\n",
    "adversarial_loss, adversarial_acc = model.evaluate(adversarial_images.reshape(-1, 28, 28, 1), test_labels)\n",
    "print(f'Точность на противоречивых примерах: {adversarial_acc:.4f}')"
   ]
  },
  {
   "cell_type": "code",
   "execution_count": 6,
   "id": "0887ffea",
   "metadata": {},
   "outputs": [
    {
     "name": "stdout",
     "output_type": "stream",
     "text": [
      "Точность на чистых изображениях: 0.9759\n",
      "Точность на противоречивых примерах: 0.1233\n"
     ]
    }
   ],
   "source": [
    "print(f'Точность на чистых изображениях: {test_acc:.4f}')\n",
    "print(f'Точность на противоречивых примерах: {adversarial_acc:.4f}')"
   ]
  }
 ],
 "metadata": {
  "kernelspec": {
   "display_name": "Python 3",
   "language": "python",
   "name": "python3"
  },
  "language_info": {
   "codemirror_mode": {
    "name": "ipython",
    "version": 3
   },
   "file_extension": ".py",
   "mimetype": "text/x-python",
   "name": "python",
   "nbconvert_exporter": "python",
   "pygments_lexer": "ipython3",
   "version": "3.12.8"
  }
 },
 "nbformat": 4,
 "nbformat_minor": 5
}
