{
 "cells": [
  {
   "cell_type": "code",
   "execution_count": null,
   "id": "d9edd8dd-ab1f-48c8-9899-91023e1b65c8",
   "metadata": {},
   "outputs": [],
   "source": [
    "Выполнил студент группы ББМО-01-23: Буланов Андрей Алексеевич\n",
    "\n",
    "Цель работы:\n",
    "\n",
    "1) Загрузить ранее обученную модель на датасете MNIST.\n",
    "\n",
    "2) Изучить теоретические основы атаки PGD.\n",
    "\n",
    "3) Реализовать атаку PGD с помощью фреймворка Foolbox.\n",
    "\n",
    "4) Оценить точность модели на противоречивых примерах и сравнить с результатами на обычных данных."
   ]
  },
  {
   "cell_type": "code",
   "execution_count": 1,
   "id": "44a369a1-4301-46f4-af77-508f38e5c99d",
   "metadata": {},
   "outputs": [
    {
     "name": "stdout",
     "output_type": "stream",
     "text": [
      "Requirement already satisfied: foolbox in c:\\users\\xazerer(cs24)\\appdata\\local\\programs\\python\\python312\\lib\\site-packages (3.3.4)\n",
      "Requirement already satisfied: numpy in c:\\users\\xazerer(cs24)\\appdata\\local\\programs\\python\\python312\\lib\\site-packages (from foolbox) (2.0.2)\n",
      "Requirement already satisfied: scipy in c:\\users\\xazerer(cs24)\\appdata\\local\\programs\\python\\python312\\lib\\site-packages (from foolbox) (1.15.1)\n",
      "Requirement already satisfied: setuptools in c:\\users\\xazerer(cs24)\\appdata\\local\\programs\\python\\python312\\lib\\site-packages (from foolbox) (75.8.0)\n",
      "Requirement already satisfied: eagerpy>=0.30.0 in c:\\users\\xazerer(cs24)\\appdata\\local\\programs\\python\\python312\\lib\\site-packages (from foolbox) (0.30.0)\n",
      "Requirement already satisfied: GitPython>=3.0.7 in c:\\users\\xazerer(cs24)\\appdata\\local\\programs\\python\\python312\\lib\\site-packages (from foolbox) (3.1.44)\n",
      "Requirement already satisfied: typing-extensions>=3.7.4.1 in c:\\users\\xazerer(cs24)\\appdata\\local\\programs\\python\\python312\\lib\\site-packages (from foolbox) (4.12.2)\n",
      "Requirement already satisfied: requests>=2.24.0 in c:\\users\\xazerer(cs24)\\appdata\\local\\programs\\python\\python312\\lib\\site-packages (from foolbox) (2.32.3)\n",
      "Requirement already satisfied: gitdb<5,>=4.0.1 in c:\\users\\xazerer(cs24)\\appdata\\local\\programs\\python\\python312\\lib\\site-packages (from GitPython>=3.0.7->foolbox) (4.0.12)\n",
      "Requirement already satisfied: charset-normalizer<4,>=2 in c:\\users\\xazerer(cs24)\\appdata\\local\\programs\\python\\python312\\lib\\site-packages (from requests>=2.24.0->foolbox) (3.4.1)\n",
      "Requirement already satisfied: idna<4,>=2.5 in c:\\users\\xazerer(cs24)\\appdata\\local\\programs\\python\\python312\\lib\\site-packages (from requests>=2.24.0->foolbox) (3.10)\n",
      "Requirement already satisfied: urllib3<3,>=1.21.1 in c:\\users\\xazerer(cs24)\\appdata\\local\\programs\\python\\python312\\lib\\site-packages (from requests>=2.24.0->foolbox) (2.3.0)\n",
      "Requirement already satisfied: certifi>=2017.4.17 in c:\\users\\xazerer(cs24)\\appdata\\local\\programs\\python\\python312\\lib\\site-packages (from requests>=2.24.0->foolbox) (2024.12.14)\n",
      "Requirement already satisfied: smmap<6,>=3.0.1 in c:\\users\\xazerer(cs24)\\appdata\\local\\programs\\python\\python312\\lib\\site-packages (from gitdb<5,>=4.0.1->GitPython>=3.0.7->foolbox) (5.0.2)\n"
     ]
    },
    {
     "name": "stderr",
     "output_type": "stream",
     "text": [
      "\n",
      "[notice] A new release of pip is available: 24.3.1 -> 25.0\n",
      "[notice] To update, run: python.exe -m pip install --upgrade pip\n"
     ]
    }
   ],
   "source": [
    "#Устанвока библеотеки foolbox\n",
    "\n",
    "!pip install foolbox"
   ]
  },
  {
   "cell_type": "code",
   "execution_count": 3,
   "id": "8e0df6d3",
   "metadata": {},
   "outputs": [],
   "source": [
    "#Импорт всех необходимых библеотек\n",
    "\n",
    "import os\n",
    "os.environ[\"GIT_PYTHON_REFRESH\"] = \"quiet\"\n",
    "import git\n",
    "import tensorflow as tf\n",
    "from tensorflow.keras.datasets import mnist\n",
    "from tensorflow.keras.utils import to_categorical\n",
    "import torch\n",
    "import torch.nn as nn\n",
    "import foolbox as fb\n",
    "import numpy as np\n",
    "import matplotlib.pyplot as plt\n",
    "import tensorflow as tf\n",
    "import time"
   ]
  },
  {
   "cell_type": "code",
   "execution_count": 7,
   "id": "693bd3a5",
   "metadata": {},
   "outputs": [
    {
     "name": "stderr",
     "output_type": "stream",
     "text": [
      "WARNING:absl:Compiled the loaded model, but the compiled metrics have yet to be built. `model.compile_metrics` will be empty until you train or evaluate the model.\n"
     ]
    },
    {
     "name": "stdout",
     "output_type": "stream",
     "text": [
      "Точность теста на чистых изображениях: 97.59%\n"
     ]
    }
   ],
   "source": [
    "# Загрузка тестовых данных MNIST\n",
    "(_, _), (test_images, test_labels) = mnist.load_data()\n",
    "\n",
    "# Нормализация данных\n",
    "test_images = test_images / 255.0\n",
    "\n",
    "# Преобразование меток в формат one-hot\n",
    "test_labels = to_categorical(test_labels, num_classes=10)\n",
    "model = tf.keras.models.load_model('mnist_model.h5')\n",
    "\n",
    "# Проверка точности модели на обычных данных\n",
    "test_loss, test_acc = model.evaluate(test_images, test_labels, verbose=0)\n",
    "print(f'Точность теста на чистых изображениях: {test_acc:.2%}')"
   ]
  },
  {
   "cell_type": "code",
   "execution_count": 21,
   "id": "eccb0a50",
   "metadata": {},
   "outputs": [
    {
     "data": {
      "image/png": "[encoded data removed]",
      "text/plain": [
       "<Figure size 1000x500 with 2 Axes>"
      ]
     },
     "metadata": {},
     "output_type": "display_data"
    }
   ],
   "source": [
    "# Инициализация Foolbox модели\n",
    "fmodel = fb.TensorFlowModel(model, bounds=(0, 1))\n",
    "\n",
    "# Выбор изображения для атаки\n",
    "image = tf.convert_to_tensor(test_images[0], dtype=tf.float32)[None, ...]\n",
    "label = tf.convert_to_tensor(np.argmax(test_labels[0]), dtype=tf.int64)\n",
    "\n",
    "# Выполнение атаки\n",
    "attack = fb.attacks.LinfPGD()\n",
    "advs, _, _ = attack(fmodel, image, label[None], epsilons=0.2)\n",
    "\n",
    "# Вывод результатов\n",
    "plt.figure(figsize=(10, 5))\n",
    "plt.subplot(1, 2, 1)\n",
    "plt.title(\"Оригинальное изображение\")\n",
    "plt.imshow(image[0].numpy(), cmap=\"gray\")\n",
    "plt.axis('off')\n",
    "plt.subplot(1, 2, 2)\n",
    "plt.title(\"Противоречивое изображение (PGD)\")\n",
    "plt.imshow(advs[0].numpy(), cmap=\"gray\")\n",
    "plt.axis('off')\n",
    "\n",
    "plt.show() "
   ]
  },
  {
   "cell_type": "code",
   "execution_count": 24,
   "id": "69860fe8",
   "metadata": {},
   "outputs": [],
   "source": [
    "# Атака на весь тестовый набор\n",
    "adversarial_images = []\n",
    "# Обработка изображений\n",
    "for i in range(len(test_images)):\n",
    "    img = tf.convert_to_tensor(test_images[i], dtype=tf.float32)[None, ...]\n",
    "    lbl = tf.convert_to_tensor(np.argmax(test_labels[i]), dtype=tf.int64)\n",
    "    adv, _, _ = attack(fmodel, img, lbl[None], epsilons=0.05)\n",
    "    adversarial_images.append(adv)\n",
    "\n",
    "# Конвертация \n",
    "adversarial_images = tf.concat(adversarial_images, axis=0)\n"
   ]
  },
  {
   "cell_type": "code",
   "execution_count": 25,
   "id": "34e30d7d",
   "metadata": {},
   "outputs": [
    {
     "name": "stdout",
     "output_type": "stream",
     "text": [
      "Точность на состязательных примерах (PGD): 51.81%\n"
     ]
    }
   ],
   "source": [
    "# Оценка на противоречивых данных\n",
    "adversarial_loss, adversarial_acc = model.evaluate(adversarial_images, test_labels, verbose=0)\n",
    "print(f'Точность на состязательных примерах (PGD): {adversarial_acc:.2%}')"
   ]
  },
  {
   "cell_type": "markdown",
   "id": "92b1e461",
   "metadata": {},
   "source": [
    "Вывод:\n",
    "\n",
    "Точность модели на противоречивых примерах, созданных с помощью атаки Projected Gradient Descent, снизилась примерно в два раза ~51,81%. Это демонстрирует существенную уязвимость модели перед PGD атаками"
   ]
  }
 ],
 "metadata": {
  "kernelspec": {
   "display_name": "Python 3",
   "language": "python",
   "name": "python3"
  },
  "language_info": {
   "codemirror_mode": {
    "name": "ipython",
    "version": 3
   },
   "file_extension": ".py",
   "mimetype": "text/x-python",
   "name": "python",
   "nbconvert_exporter": "python",
   "pygments_lexer": "ipython3",
   "version": "3.12.8"
  }
 },
 "nbformat": 4,
 "nbformat_minor": 5
}
