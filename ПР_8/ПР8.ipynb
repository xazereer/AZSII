{
 "cells": [
  {
   "cell_type": "code",
   "execution_count": null,
   "id": "bbd7c06d-cde9-4791-b73a-0cbad9f01de7",
   "metadata": {},
   "outputs": [],
   "source": [
    "Практика 8: Методы защиты от атак на модели ИИ\n",
    "\n",
    "Буланов Андрей Алексеевич, ББМО-01-23\n",
    "\n",
    "Цель задания: Изучить методы защиты моделей ИИ от различных атак, включая методы защиты на уровне данных, моделирования и обучения. Реализовать эти методы и проверить их эффективность против атак, изученных ранее\n",
    "\n",
    "Задачи:\n",
    "\n",
    "1. Изучить и реализовать защиту модели с помощью тренировок на противоречивых примерах (Adversarial Training).\n",
    "2. Реализовать метод защиты на основе градиентной маскировки.\n",
    "3. Использовать регуляризацию и нормализацию для повышения устойчивости модели.\n",
    "4. Проверить эффективность методов защиты против атак FGSM, PGD и GAN-based атак.\n",
    "5. Оценить улучшение точности защищенной модели на противоречивых примерах."
   ]
  },
  {
   "cell_type": "code",
   "execution_count": 1,
   "id": "2d10fd23-904a-471f-92bb-94e9b678793f",
   "metadata": {},
   "outputs": [],
   "source": [
    "#Импорт всех необходимых библеотек\n",
    "import tensorflow as tf\n",
    "import numpy as np\n",
    "from tensorflow.keras.datasets import mnist\n",
    "from tensorflow.keras.layers import Activation\n",
    "from tensorflow.keras.utils import to_categorical"
   ]
  },
  {
   "cell_type": "code",
   "execution_count": 2,
   "id": "c9e6c694",
   "metadata": {},
   "outputs": [
    {
     "name": "stderr",
     "output_type": "stream",
     "text": [
      "c:\\Users\\Xazerer(CS24)\\AppData\\Local\\Programs\\Python\\Python312\\Lib\\site-packages\\keras\\src\\layers\\reshaping\\flatten.py:37: UserWarning: Do not pass an `input_shape`/`input_dim` argument to a layer. When using Sequential models, prefer using an `Input(shape)` object as the first layer in the model instead.\n",
      "  super().__init__(**kwargs)\n",
      "WARNING:absl:You are saving your model as an HDF5 file via `model.save()` or `keras.saving.save_model(model)`. This file format is considered legacy. We recommend using instead the native Keras format, e.g. `model.save('my_model.keras')` or `keras.saving.save_model(model, 'my_model.keras')`. \n"
     ]
    }
   ],
   "source": [
    "# Загрузка данных MNIST\n",
    "(train_images, train_labels), (test_images, test_labels) = mnist.load_data()\n",
    "\n",
    "# Нормализация данных\n",
    "train_images = train_images / 255.0\n",
    "test_images = test_images / 255.0\n",
    "\n",
    "# Преобразование меток в one-hot encoding\n",
    "train_labels = tf.keras.utils.to_categorical(train_labels, 10)\n",
    "test_labels = tf.keras.utils.to_categorical(test_labels, 10)\n",
    "# ОЗУ не хватает для обучения на всех ~60 тысяч изображениях, я взял 5 тысяч\n",
    "train_images = train_images[:5000]\n",
    "train_labels = train_labels[:5000]\n",
    "\n",
    "# Функция FGSM атаки\n",
    "def fgsm_attack(image, epsilon, gradient):\n",
    "    perturbation = epsilon * np.sign(gradient)\n",
    "    adversarial_image = image + perturbation\n",
    "    adversarial_image = np.clip(adversarial_image, 0, 1)\n",
    "    return adversarial_image\n",
    "\n",
    "# Функция для генерации противоречивых примеров\n",
    "def generate_adversarial_examples(model, images, labels, epsilon):\n",
    "    adversarial_images = []\n",
    "    for i in range(len(images)):\n",
    "        image = tf.convert_to_tensor(images[i].reshape((1, 28, 28, 1)), dtype=tf.float32) # Конвертирует размер под формат модели\n",
    "        label = tf.convert_to_tensor(labels[i].reshape((1, 10)), dtype=tf.float32) # Конвертируем one-hot вектор в индекс\n",
    "\n",
    "        with tf.GradientTape() as tape:\n",
    "            tape.watch(image)\n",
    "            prediction = model(image)\n",
    "            loss = tf.keras.losses.categorical_crossentropy(label, prediction)\n",
    "\n",
    "        gradient = tape.gradient(loss, image)\n",
    "        adversarial_image = fgsm_attack(image.numpy(), epsilon, gradient.numpy())\n",
    "        adversarial_images.append(adversarial_image.reshape(28, 28))\n",
    "\n",
    "    return np.array(adversarial_images)\n",
    "\n",
    "# Создание модели\n",
    "def create_model():\n",
    "    model = tf.keras.Sequential([\n",
    "        tf.keras.layers.Flatten(input_shape=(28, 28)),\n",
    "        tf.keras.layers.Dense(128, activation='relu'),\n",
    "        tf.keras.layers.Dense(10, activation='softmax')\n",
    "    ])\n",
    "    model.compile(optimizer='adam', loss='categorical_crossentropy', metrics=['accuracy'])\n",
    "    return model\n",
    "\n",
    "# Обучение модели с противоречивыми примерами\n",
    "def adversarial_training(model, train_images, train_labels, epsilon):\n",
    "    for epoch in range(5):  # Короткое обучение для демонстрации\n",
    "        for i in range(0, len(train_images), 32):\n",
    "            batch_images = train_images[i:i+32]\n",
    "            batch_labels = train_labels[i:i+32]\n",
    "            adversarial_images = generate_adversarial_examples(model, batch_images, batch_labels, epsilon)\n",
    "            combined_images = np.concatenate([batch_images, adversarial_images], axis=0)\n",
    "            combined_labels = np.concatenate([batch_labels, batch_labels], axis=0)\n",
    "            model.train_on_batch(combined_images, combined_labels)\n",
    "\n",
    "# Инициализация модели\n",
    "model = create_model()\n",
    "\n",
    "# Тренировка модели с защитой на противоречивых примерах\n",
    "adversarial_training(model, train_images, train_labels, epsilon=0.1)\n",
    "\n",
    "# Сохранение защищенной модели\n",
    "model.save('adversarial_trained_model.h5')"
   ]
  },
  {
   "cell_type": "code",
   "execution_count": 3,
   "id": "2ecc01d4",
   "metadata": {},
   "outputs": [
    {
     "name": "stdout",
     "output_type": "stream",
     "text": [
      "Epoch 1/5\n",
      "\u001b[1m157/157\u001b[0m \u001b[32m━━━━━━━━━━━━━━━━━━━━\u001b[0m\u001b[37m\u001b[0m \u001b[1m1s\u001b[0m 2ms/step - accuracy: 0.5508 - loss: 2.9330\n",
      "Epoch 2/5\n",
      "\u001b[1m157/157\u001b[0m \u001b[32m━━━━━━━━━━━━━━━━━━━━\u001b[0m\u001b[37m\u001b[0m \u001b[1m0s\u001b[0m 2ms/step - accuracy: 0.8539 - loss: 1.2415\n",
      "Epoch 3/5\n",
      "\u001b[1m157/157\u001b[0m \u001b[32m━━━━━━━━━━━━━━━━━━━━\u001b[0m\u001b[37m\u001b[0m \u001b[1m0s\u001b[0m 2ms/step - accuracy: 0.8739 - loss: 0.9405\n",
      "Epoch 4/5\n",
      "\u001b[1m157/157\u001b[0m \u001b[32m━━━━━━━━━━━━━━━━━━━━\u001b[0m\u001b[37m\u001b[0m \u001b[1m0s\u001b[0m 2ms/step - accuracy: 0.8951 - loss: 0.7544\n",
      "Epoch 5/5\n",
      "\u001b[1m157/157\u001b[0m \u001b[32m━━━━━━━━━━━━━━━━━━━━\u001b[0m\u001b[37m\u001b[0m \u001b[1m0s\u001b[0m 2ms/step - accuracy: 0.8963 - loss: 0.6591\n"
     ]
    },
    {
     "name": "stderr",
     "output_type": "stream",
     "text": [
      "WARNING:absl:You are saving your model as an HDF5 file via `model.save()` or `keras.saving.save_model(model)`. This file format is considered legacy. We recommend using instead the native Keras format, e.g. `model.save('my_model.keras')` or `keras.saving.save_model(model, 'my_model.keras')`. \n"
     ]
    }
   ],
   "source": [
    "# Модель с регуляризацией и нормализацией\n",
    "def create_regularized_model():\n",
    "    model = tf.keras.Sequential([\n",
    "        tf.keras.layers.Flatten(input_shape=(28, 28)),\n",
    "        tf.keras.layers.Dense(128, activation='relu', kernel_regularizer=tf.keras.regularizers.l2(0.01)),\n",
    "        tf.keras.layers.Dropout(0.5),\n",
    "        tf.keras.layers.BatchNormalization(),\n",
    "        tf.keras.layers.Dense(10, activation='softmax')\n",
    "    ])\n",
    "    model.compile(optimizer='adam', loss='categorical_crossentropy', metrics=['accuracy'])\n",
    "    return model\n",
    "\n",
    "# Обучение и сохранение модели\n",
    "create_regularized_model().fit(train_images, train_labels, epochs=5).model.save('regularized_model.h5')"
   ]
  },
  {
   "cell_type": "code",
   "execution_count": 9,
   "id": "a30deb14",
   "metadata": {},
   "outputs": [
    {
     "name": "stdout",
     "output_type": "stream",
     "text": [
      "Epoch 1/5\n",
      "\u001b[1m157/157\u001b[0m \u001b[32m━━━━━━━━━━━━━━━━━━━━\u001b[0m\u001b[37m\u001b[0m \u001b[1m1s\u001b[0m 1ms/step - accuracy: 0.6870 - loss: 1.2190\n",
      "Epoch 2/5\n",
      "\u001b[1m157/157\u001b[0m \u001b[32m━━━━━━━━━━━━━━━━━━━━\u001b[0m\u001b[37m\u001b[0m \u001b[1m0s\u001b[0m 2ms/step - accuracy: 0.9057 - loss: 0.3340\n",
      "Epoch 3/5\n",
      "\u001b[1m157/157\u001b[0m \u001b[32m━━━━━━━━━━━━━━━━━━━━\u001b[0m\u001b[37m\u001b[0m \u001b[1m0s\u001b[0m 1ms/step - accuracy: 0.9339 - loss: 0.2352\n",
      "Epoch 4/5\n",
      "\u001b[1m157/157\u001b[0m \u001b[32m━━━━━━━━━━━━━━━━━━━━\u001b[0m\u001b[37m\u001b[0m \u001b[1m0s\u001b[0m 2ms/step - accuracy: 0.9477 - loss: 0.1827\n",
      "Epoch 5/5\n",
      "\u001b[1m157/157\u001b[0m \u001b[32m━━━━━━━━━━━━━━━━━━━━\u001b[0m\u001b[37m\u001b[0m \u001b[1m0s\u001b[0m 2ms/step - accuracy: 0.9667 - loss: 0.1345\n"
     ]
    },
    {
     "name": "stderr",
     "output_type": "stream",
     "text": [
      "WARNING:absl:You are saving your model as an HDF5 file via `model.save()` or `keras.saving.save_model(model)`. This file format is considered legacy. We recommend using instead the native Keras format, e.g. `model.save('my_model.keras')` or `keras.saving.save_model(model, 'my_model.keras')`. \n"
     ]
    }
   ],
   "source": [
    "# Реализация градиентной маскировки\n",
    "from tensorflow.keras.layers import Activation\n",
    "\n",
    "# Обновление модели для градиентной маскировки\n",
    "def create_masked_model():\n",
    "    model = tf.keras.Sequential([\n",
    "        tf.keras.layers.Flatten(input_shape=(28, 28)),\n",
    "        tf.keras.layers.Dense(128, activation='relu'),\n",
    "        tf.keras.layers.Dense(10),\n",
    "        Activation('softplus')  # Используем softplus вместо softmax для градиентной маскировки для затруднения доступа атакам к градиентам модели\n",
    "    ])\n",
    "    model.compile(optimizer='adam', loss='categorical_crossentropy', metrics=['accuracy'])\n",
    "    return model\n",
    "\n",
    "# Обучение модели с градиентной маскировкой\n",
    "masked_model = create_masked_model()\n",
    "masked_model.fit(train_images, train_labels, epochs=5)\n",
    "\n",
    "# Сохранение модели с градиентной маскировкой\n",
    "masked_model.save('masked_model.h5')\n",
    "     "
   ]
  },
  {
   "cell_type": "code",
   "execution_count": 10,
   "id": "596a15db",
   "metadata": {},
   "outputs": [
    {
     "name": "stdout",
     "output_type": "stream",
     "text": [
      "Epoch 1/5\n",
      "\u001b[1m157/157\u001b[0m \u001b[32m━━━━━━━━━━━━━━━━━━━━\u001b[0m\u001b[37m\u001b[0m \u001b[1m1s\u001b[0m 2ms/step - accuracy: 0.5764 - loss: 2.8177\n",
      "Epoch 2/5\n",
      "\u001b[1m157/157\u001b[0m \u001b[32m━━━━━━━━━━━━━━━━━━━━\u001b[0m\u001b[37m\u001b[0m \u001b[1m0s\u001b[0m 2ms/step - accuracy: 0.8527 - loss: 1.2203\n",
      "Epoch 3/5\n",
      "\u001b[1m157/157\u001b[0m \u001b[32m━━━━━━━━━━━━━━━━━━━━\u001b[0m\u001b[37m\u001b[0m \u001b[1m0s\u001b[0m 2ms/step - accuracy: 0.8821 - loss: 0.9101\n",
      "Epoch 4/5\n",
      "\u001b[1m157/157\u001b[0m \u001b[32m━━━━━━━━━━━━━━━━━━━━\u001b[0m\u001b[37m\u001b[0m \u001b[1m0s\u001b[0m 2ms/step - accuracy: 0.8917 - loss: 0.7586\n",
      "Epoch 5/5\n",
      "\u001b[1m157/157\u001b[0m \u001b[32m━━━━━━━━━━━━━━━━━━━━\u001b[0m\u001b[37m\u001b[0m \u001b[1m0s\u001b[0m 2ms/step - accuracy: 0.8959 - loss: 0.6650\n"
     ]
    },
    {
     "name": "stderr",
     "output_type": "stream",
     "text": [
      "WARNING:absl:You are saving your model as an HDF5 file via `model.save()` or `keras.saving.save_model(model)`. This file format is considered legacy. We recommend using instead the native Keras format, e.g. `model.save('my_model.keras')` or `keras.saving.save_model(model, 'my_model.keras')`. \n"
     ]
    }
   ],
   "source": [
    "# Модель с регуляризацией и нормализацией\n",
    "def create_regularized_model():\n",
    "    model = tf.keras.Sequential([\n",
    "        tf.keras.layers.Flatten(input_shape=(28, 28)),\n",
    "        tf.keras.layers.Dense(128, activation='relu',\n",
    "        kernel_regularizer=tf.keras.regularizers.l2(0.01)),\n",
    "        tf.keras.layers.Dropout(0.5),\n",
    "        tf.keras.layers.BatchNormalization(),\n",
    "        tf.keras.layers.Dense(10, activation='softmax')\n",
    "    ])\n",
    "    model.compile(optimizer='adam', loss='categorical_crossentropy', metrics=['accuracy'])\n",
    "    return model\n",
    "\n",
    "# Обучение модели с регуляризацией и нормализацией\n",
    "regularized_model = create_regularized_model()\n",
    "regularized_model.fit(train_images, train_labels, epochs=5)\n",
    "\n",
    "# Сохранение модели с регуляризацией\n",
    "regularized_model.save('regularized_model.h5')"
   ]
  },
  {
   "cell_type": "code",
   "execution_count": 12,
   "id": "e3fc6ded",
   "metadata": {},
   "outputs": [
    {
     "name": "stderr",
     "output_type": "stream",
     "text": [
      "WARNING:absl:Compiled the loaded model, but the compiled metrics have yet to be built. `model.compile_metrics` will be empty until you train or evaluate the model.\n",
      "WARNING:absl:Compiled the loaded model, but the compiled metrics have yet to be built. `model.compile_metrics` will be empty until you train or evaluate the model.\n",
      "WARNING:absl:Compiled the loaded model, but the compiled metrics have yet to be built. `model.compile_metrics` will be empty until you train or evaluate the model.\n"
     ]
    },
    {
     "name": "stdout",
     "output_type": "stream",
     "text": [
      "\u001b[1m313/313\u001b[0m \u001b[32m━━━━━━━━━━━━━━━━━━━━\u001b[0m\u001b[37m\u001b[0m \u001b[1m1s\u001b[0m 1ms/step - accuracy: 0.7145 - loss: 0.8942\n",
      "Accuracy of protected model on adversarial examples: 0.748199999332428\n",
      "\u001b[1m313/313\u001b[0m \u001b[32m━━━━━━━━━━━━━━━━━━━━\u001b[0m\u001b[37m\u001b[0m \u001b[1m1s\u001b[0m 1ms/step - accuracy: 0.6154 - loss: 1.4167\n",
      "Accuracy of regularized model on adversarial examples: 0.6604999899864197\n",
      "\u001b[1m313/313\u001b[0m \u001b[32m━━━━━━━━━━━━━━━━━━━━\u001b[0m\u001b[37m\u001b[0m \u001b[1m1s\u001b[0m 1ms/step - accuracy: 0.5022 - loss: 1.6119\n",
      "Accuracy of masked model on adversarial examples: 0.5586000084877014\n"
     ]
    }
   ],
   "source": [
    "# Загрузка моделей\n",
    "models = {\n",
    "    'protected': tf.keras.models.load_model('adversarial_trained_model.h5'),\n",
    "    'regularized': tf.keras.models.load_model('regularized_model.h5'),\n",
    "    'masked': tf.keras.models.load_model('masked_model.h5')\n",
    "}\n",
    "\n",
    "# Генерация противоречивых примеров\n",
    "adversarial_test_images = generate_adversarial_examples(models['protected'], test_images, test_labels, epsilon=0.1)\n",
    "\n",
    "# Оценка моделей на противоречивых примерах\n",
    "for model_name, model in models.items():\n",
    "    test_loss, test_acc = model.evaluate(adversarial_test_images, test_labels)\n",
    "    print(f'Accuracy of {model_name} model on adversarial examples: {test_acc}')"
   ]
  },
  {
   "cell_type": "markdown",
   "id": "ba1834ad",
   "metadata": {},
   "source": [
    "Вывод:\n",
    "\n",
    "В работе мы рассмотрели методы защиты от атак.\n",
    "\n",
    "Обученная модель на противоречивых примерах показала лучший результат в работе (71.3% точности).\n",
    "\n",
    "Модель с градиентой маскировкой показа меньшую точность, по сравнению с другими методами (~66% точности).\n",
    "\n",
    "Модель с регуляцией и нормализацией показала результат в (~50% точности) точности.\n",
    "\n",
    "Данные методы действительно увеличили точность моделей, по сравнению с чистыми, которые были расмотрены во 2-й практической работе, однако помогли примерно на 50-60% сохранить точность т.е. модели всё еще уязвимы."
   ]
  }
 ],
 "metadata": {
  "kernelspec": {
   "display_name": "Python 3",
   "language": "python",
   "name": "python3"
  },
  "language_info": {
   "codemirror_mode": {
    "name": "ipython",
    "version": 3
   },
   "file_extension": ".py",
   "mimetype": "text/x-python",
   "name": "python",
   "nbconvert_exporter": "python",
   "pygments_lexer": "ipython3",
   "version": "3.12.8"
  }
 },
 "nbformat": 4,
 "nbformat_minor": 5
}
