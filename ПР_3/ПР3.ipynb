{
 "cells": [
  {
   "cell_type": "code",
   "execution_count": null,
   "id": "c13d0f0a-e5c1-4b5d-94b7-978f8dacc55e",
   "metadata": {},
   "outputs": [],
   "source": [
    "Практическая работа № 3\n",
    "\n",
    "Выполнил студент группы ББМО-01-23: Буланов Андрей Алексеевич\n",
    "\n",
    "Цель работы:\n",
    "\n",
    "1. Загрузить ранее обученную модель на датасете MNIST.\n",
    "2. Изучить теоретические основы атаки Carlini-Wagner.\n",
    "3. Реализовать атаку CW с помощью фреймворка Foolbox.\n",
    "4. Оценить точность модели на противоречивых примерах и сравнить с результатами на обычных\n",
    "данных."
   ]
  },
  {
   "cell_type": "code",
   "execution_count": 1,
   "id": "54dec8d4-fc00-4211-a5d0-05577718a34d",
   "metadata": {},
   "outputs": [
    {
     "name": "stdout",
     "output_type": "stream",
     "text": [
      "Requirement already satisfied: foolbox in c:\\users\\xazerer(cs24)\\appdata\\local\\programs\\python\\python312\\lib\\site-packages (3.3.4)\n",
      "Requirement already satisfied: numpy in c:\\users\\xazerer(cs24)\\appdata\\local\\programs\\python\\python312\\lib\\site-packages (from foolbox) (2.0.2)\n",
      "Requirement already satisfied: scipy in c:\\users\\xazerer(cs24)\\appdata\\local\\programs\\python\\python312\\lib\\site-packages (from foolbox) (1.15.1)\n",
      "Requirement already satisfied: setuptools in c:\\users\\xazerer(cs24)\\appdata\\local\\programs\\python\\python312\\lib\\site-packages (from foolbox) (75.8.0)\n",
      "Requirement already satisfied: eagerpy>=0.30.0 in c:\\users\\xazerer(cs24)\\appdata\\local\\programs\\python\\python312\\lib\\site-packages (from foolbox) (0.30.0)\n",
      "Requirement already satisfied: GitPython>=3.0.7 in c:\\users\\xazerer(cs24)\\appdata\\local\\programs\\python\\python312\\lib\\site-packages (from foolbox) (3.1.44)\n",
      "Requirement already satisfied: typing-extensions>=3.7.4.1 in c:\\users\\xazerer(cs24)\\appdata\\local\\programs\\python\\python312\\lib\\site-packages (from foolbox) (4.12.2)\n",
      "Requirement already satisfied: requests>=2.24.0 in c:\\users\\xazerer(cs24)\\appdata\\local\\programs\\python\\python312\\lib\\site-packages (from foolbox) (2.32.3)\n",
      "Requirement already satisfied: gitdb<5,>=4.0.1 in c:\\users\\xazerer(cs24)\\appdata\\local\\programs\\python\\python312\\lib\\site-packages (from GitPython>=3.0.7->foolbox) (4.0.12)\n",
      "Requirement already satisfied: charset-normalizer<4,>=2 in c:\\users\\xazerer(cs24)\\appdata\\local\\programs\\python\\python312\\lib\\site-packages (from requests>=2.24.0->foolbox) (3.4.1)\n",
      "Requirement already satisfied: idna<4,>=2.5 in c:\\users\\xazerer(cs24)\\appdata\\local\\programs\\python\\python312\\lib\\site-packages (from requests>=2.24.0->foolbox) (3.10)\n",
      "Requirement already satisfied: urllib3<3,>=1.21.1 in c:\\users\\xazerer(cs24)\\appdata\\local\\programs\\python\\python312\\lib\\site-packages (from requests>=2.24.0->foolbox) (2.3.0)\n",
      "Requirement already satisfied: certifi>=2017.4.17 in c:\\users\\xazerer(cs24)\\appdata\\local\\programs\\python\\python312\\lib\\site-packages (from requests>=2.24.0->foolbox) (2024.12.14)\n",
      "Requirement already satisfied: smmap<6,>=3.0.1 in c:\\users\\xazerer(cs24)\\appdata\\local\\programs\\python\\python312\\lib\\site-packages (from gitdb<5,>=4.0.1->GitPython>=3.0.7->foolbox) (5.0.2)\n"
     ]
    },
    {
     "name": "stderr",
     "output_type": "stream",
     "text": [
      "\n",
      "[notice] A new release of pip is available: 24.3.1 -> 25.0\n",
      "[notice] To update, run: python.exe -m pip install --upgrade pip\n"
     ]
    }
   ],
   "source": [
    "!pip install foolbox"
   ]
  },
  {
   "cell_type": "code",
   "execution_count": 5,
   "id": "a21839f7",
   "metadata": {},
   "outputs": [
    {
     "name": "stderr",
     "output_type": "stream",
     "text": [
      "WARNING:absl:Compiled the loaded model, but the compiled metrics have yet to be built. `model.compile_metrics` will be empty until you train or evaluate the model.\n"
     ]
    },
    {
     "name": "stdout",
     "output_type": "stream",
     "text": [
      "\u001b[1m313/313\u001b[0m \u001b[32m━━━━━━━━━━━━━━━━━━━━\u001b[0m\u001b[37m\u001b[0m \u001b[1m0s\u001b[0m 963us/step - accuracy: 0.9723 - loss: 0.0923\n",
      "Test accuracy on clean images: 0.9758999943733215\n"
     ]
    }
   ],
   "source": [
    "import tensorflow as tf\n",
    "from tensorflow.keras.datasets import mnist\n",
    "from tensorflow.keras.utils import to_categorical\n",
    "\n",
    "(_, _), (test_images, test_labels) = mnist.load_data()\n",
    "\n",
    "test_images = test_images / 255.0\n",
    "\n",
    "test_labels = to_categorical(test_labels, num_classes=10)\n",
    "\n",
    "model = tf.keras.models.load_model('mnist_model.h5')\n",
    "\n",
    "test_loss, test_acc = model.evaluate(test_images, test_labels)\n",
    "print(f'Test accuracy on clean images: {test_acc}')"
   ]
  },
  {
   "cell_type": "code",
   "execution_count": 25,
   "id": "b023f8e1",
   "metadata": {},
   "outputs": [
    {
     "name": "stdout",
     "output_type": "stream",
     "text": [
      "tf.Tensor(7, shape=(), dtype=int64)\n"
     ]
    },
    {
     "data": {
      "image/png": "[encoded data removed]",
      "text/plain": [
       "<Figure size 1000x500 with 2 Axes>"
      ]
     },
     "metadata": {},
     "output_type": "display_data"
    }
   ],
   "source": [
    "import os\n",
    "os.environ[\"GIT_PYTHON_REFRESH\"] = \"quiet\"\n",
    "import git \n",
    "import torch\n",
    "import torch.nn as nn\n",
    "import foolbox as fb\n",
    "import numpy as np\n",
    "import matplotlib.pyplot as plt\n",
    "import tensorflow as tf\n",
    "\n",
    "fmodel = fb.TensorFlowModel(model, bounds=(-1, 1))\n",
    "\n",
    "image = tf.convert_to_tensor(test_images[87], dtype=tf.float32)[None, ...]\n",
    "label = np.argmax(test_labels[0])\n",
    "label = tf.convert_to_tensor(label, dtype=tf.int64)\n",
    "\n",
    "attack = fb.attacks.L2CarliniWagnerAttack(steps=3)\n",
    "print(label)\n",
    "advs, _, success = attack(fmodel, image, label[None], epsilons=0.01)\n",
    "\n",
    "plt.figure(figsize=(10, 5))\n",
    "plt.subplot(1, 2, 1)\n",
    "plt.title(\"Оригинальное изображение\")\n",
    "plt.imshow(image[0].numpy(), cmap=\"gray\")\n",
    "plt.axis('off')\n",
    "\n",
    "plt.subplot(1, 2, 2)\n",
    "plt.title(\"Противоречивое изображение (CW Attack)\")\n",
    "plt.imshow(advs[0].numpy(), cmap=\"gray\")\n",
    "plt.axis('off')\n",
    "\n",
    "plt.show()"
   ]
  },
  {
   "cell_type": "code",
   "execution_count": 32,
   "id": "227e14fe",
   "metadata": {},
   "outputs": [
    {
     "name": "stdout",
     "output_type": "stream",
     "text": [
      "\u001b[1m32/32\u001b[0m \u001b[32m━━━━━━━━━━━━━━━━━━━━\u001b[0m\u001b[37m\u001b[0m \u001b[1m0s\u001b[0m 2ms/step - accuracy: 0.0847 - loss: 2.2000 \n",
      "Точность на состязательных примерах (атака CW): 0.0771484375\n"
     ]
    }
   ],
   "source": [
    "# Создание набора противоречивых примеров для всего тестового набора\n",
    "adversarial_images = []\n",
    "batch_size = 32\n",
    "\n",
    "# Обработка изображений пакетами\n",
    "for i in range(0, len(test_images) // 10, batch_size):\n",
    "\n",
    "    # Создаем пакет изображений и меток\n",
    "    batch_images = tf.convert_to_tensor(test_images[i:i + batch_size], dtype=tf.float32)\n",
    "    batch_labels = np.argmax(test_labels[i:i + batch_size], axis=1)\n",
    "    batch_labels = tf.convert_to_tensor(batch_labels, dtype=tf.int64)\n",
    "\n",
    "    # Проверка размерности\n",
    "    advs, _, success = attack(fmodel, batch_images, batch_labels, epsilons=0.1)\n",
    "    adversarial_images.append(advs)\n",
    "\n",
    "# Конвертация списка в массив с правильной формой\n",
    "adversarial_images = tf.concat(adversarial_images, axis=0)\n",
    "\n",
    "# Оценка точности модели на противоречивых примерах\n",
    "adversarial_loss, adversarial_acc = model.evaluate(adversarial_images, test_labels[:len(adversarial_images)])\n",
    "print(f'Точность на состязательных примерах (атака CW): {adversarial_acc}')"
   ]
  },
  {
   "cell_type": "markdown",
   "id": "603f5192",
   "metadata": {},
   "source": [
    "Вывод\n",
    "\n",
    "Точность модели на атакованных примерах значительно снизилась, что указывает на её неспособность корректно распознавать изображения при наличии целенаправленных, минимальных искажений. Это подчеркивает необходимость разработки более устойчивых моделей и использования методов защиты от атак для повышения надежности в практических приложениях."
   ]
  }
 ],
 "metadata": {
  "kernelspec": {
   "display_name": "Python 3",
   "language": "python",
   "name": "python3"
  },
  "language_info": {
   "codemirror_mode": {
    "name": "ipython",
    "version": 3
   },
   "file_extension": ".py",
   "mimetype": "text/x-python",
   "name": "python",
   "nbconvert_exporter": "python",
   "pygments_lexer": "ipython3",
   "version": "3.12.8"
  }
 },
 "nbformat": 4,
 "nbformat_minor": 5
}
