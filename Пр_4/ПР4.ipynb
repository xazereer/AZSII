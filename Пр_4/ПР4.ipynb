{
 "cells": [
  {
   "cell_type": "code",
   "execution_count": null,
   "id": "76fdde99-7592-4c81-8f6b-977078306354",
   "metadata": {},
   "outputs": [],
   "source": [
    "Практическая работа № 4\n",
    "\n",
    "Выполнил студент группы ББМО-01-23: Буланов Андрей Алексеевич\n",
    "\n",
    "Цель работы:\n",
    "\n",
    "1. Загрузить ранее обученную модель на датасете MNIST.\n",
    "2. Изучить теоретические основы атаки DeepFool.\n",
    "3. Реализовать атаку DeepFool с помощью фреймворка Foolbox.\n",
    "4. Оценить точность модели на противоречивых примерах и сравнить с результатами на обычных\n",
    "данных."
   ]
  },
  {
   "cell_type": "code",
   "execution_count": 1,
   "id": "9095d132-1a55-4937-bedd-ac602afa0dfb",
   "metadata": {},
   "outputs": [
    {
     "name": "stdout",
     "output_type": "stream",
     "text": [
      "Requirement already satisfied: foolbox in c:\\users\\xazerer(cs24)\\appdata\\local\\programs\\python\\python312\\lib\\site-packages (3.3.4)\n",
      "Requirement already satisfied: numpy in c:\\users\\xazerer(cs24)\\appdata\\local\\programs\\python\\python312\\lib\\site-packages (from foolbox) (2.0.2)\n",
      "Requirement already satisfied: scipy in c:\\users\\xazerer(cs24)\\appdata\\local\\programs\\python\\python312\\lib\\site-packages (from foolbox) (1.15.1)\n",
      "Requirement already satisfied: setuptools in c:\\users\\xazerer(cs24)\\appdata\\local\\programs\\python\\python312\\lib\\site-packages (from foolbox) (75.8.0)\n",
      "Requirement already satisfied: eagerpy>=0.30.0 in c:\\users\\xazerer(cs24)\\appdata\\local\\programs\\python\\python312\\lib\\site-packages (from foolbox) (0.30.0)\n",
      "Requirement already satisfied: GitPython>=3.0.7 in c:\\users\\xazerer(cs24)\\appdata\\local\\programs\\python\\python312\\lib\\site-packages (from foolbox) (3.1.44)\n",
      "Requirement already satisfied: typing-extensions>=3.7.4.1 in c:\\users\\xazerer(cs24)\\appdata\\local\\programs\\python\\python312\\lib\\site-packages (from foolbox) (4.12.2)\n",
      "Requirement already satisfied: requests>=2.24.0 in c:\\users\\xazerer(cs24)\\appdata\\local\\programs\\python\\python312\\lib\\site-packages (from foolbox) (2.32.3)\n",
      "Requirement already satisfied: gitdb<5,>=4.0.1 in c:\\users\\xazerer(cs24)\\appdata\\local\\programs\\python\\python312\\lib\\site-packages (from GitPython>=3.0.7->foolbox) (4.0.12)\n",
      "Requirement already satisfied: charset-normalizer<4,>=2 in c:\\users\\xazerer(cs24)\\appdata\\local\\programs\\python\\python312\\lib\\site-packages (from requests>=2.24.0->foolbox) (3.4.1)\n",
      "Requirement already satisfied: idna<4,>=2.5 in c:\\users\\xazerer(cs24)\\appdata\\local\\programs\\python\\python312\\lib\\site-packages (from requests>=2.24.0->foolbox) (3.10)\n",
      "Requirement already satisfied: urllib3<3,>=1.21.1 in c:\\users\\xazerer(cs24)\\appdata\\local\\programs\\python\\python312\\lib\\site-packages (from requests>=2.24.0->foolbox) (2.3.0)\n",
      "Requirement already satisfied: certifi>=2017.4.17 in c:\\users\\xazerer(cs24)\\appdata\\local\\programs\\python\\python312\\lib\\site-packages (from requests>=2.24.0->foolbox) (2024.12.14)\n",
      "Requirement already satisfied: smmap<6,>=3.0.1 in c:\\users\\xazerer(cs24)\\appdata\\local\\programs\\python\\python312\\lib\\site-packages (from gitdb<5,>=4.0.1->GitPython>=3.0.7->foolbox) (5.0.2)\n"
     ]
    },
    {
     "name": "stderr",
     "output_type": "stream",
     "text": [
      "\n",
      "[notice] A new release of pip is available: 24.3.1 -> 25.0\n",
      "[notice] To update, run: python.exe -m pip install --upgrade pip\n"
     ]
    }
   ],
   "source": [
    "# Установка библеотеки foolbox\n",
    "!pip install foolbox"
   ]
  },
  {
   "cell_type": "code",
   "execution_count": 8,
   "id": "df54801e",
   "metadata": {},
   "outputs": [],
   "source": [
    "import os\n",
    "os.environ[\"GIT_PYTHON_REFRESH\"] = \"quiet\"\n",
    "import git\n",
    "# Импорт всех необходимых бибилеотек\n",
    "import numpy as np\n",
    "import tensorflow as tf\n",
    "from tensorflow.keras.datasets import mnist\n",
    "from tensorflow.keras.utils import to_categorical\n",
    "import foolbox as fb\n",
    "import matplotlib.pyplot as plt"
   ]
  },
  {
   "cell_type": "code",
   "execution_count": 9,
   "id": "254c3995",
   "metadata": {},
   "outputs": [
    {
     "name": "stderr",
     "output_type": "stream",
     "text": [
      "WARNING:absl:Compiled the loaded model, but the compiled metrics have yet to be built. `model.compile_metrics` will be empty until you train or evaluate the model.\n"
     ]
    },
    {
     "name": "stdout",
     "output_type": "stream",
     "text": [
      "\u001b[1m313/313\u001b[0m \u001b[32m━━━━━━━━━━━━━━━━━━━━\u001b[0m\u001b[37m\u001b[0m \u001b[1m1s\u001b[0m 1ms/step - accuracy: 0.9723 - loss: 0.0923\n",
      "Test accuracy on clean images: 0.9758999943733215\n"
     ]
    }
   ],
   "source": [
    "# Загрузка тестовых данных MNIST\n",
    "(_, _), (test_images, test_labels) = mnist.load_data()\n",
    "\n",
    "# Нормализация данных\n",
    "test_images = test_images / 255.0\n",
    "\n",
    "# Преобразование меток в формат one-hot\n",
    "test_labels = to_categorical(test_labels, num_classes=10)\n",
    "\n",
    "# Загрузка обученной модели\n",
    "model = tf.keras.models.load_model('mnist_model.h5')\n",
    "\n",
    "# Проверка точности модели на обычных данных\n",
    "test_loss, test_acc = model.evaluate(test_images, test_labels)\n",
    "print(f'Test accuracy on clean images: {test_acc}')"
   ]
  },
  {
   "cell_type": "code",
   "execution_count": 10,
   "id": "5053a86c",
   "metadata": {},
   "outputs": [
    {
     "name": "stdout",
     "output_type": "stream",
     "text": [
      "WARNING:tensorflow:From c:\\Users\\Xazerer(CS24)\\AppData\\Local\\Programs\\Python\\Python312\\Lib\\site-packages\\foolbox\\models\\tensorflow.py:13: is_gpu_available (from tensorflow.python.framework.test_util) is deprecated and will be removed in a future version.\n",
      "Instructions for updating:\n",
      "Use `tf.config.list_physical_devices('GPU')` instead.\n"
     ]
    },
    {
     "name": "stderr",
     "output_type": "stream",
     "text": [
      "WARNING:tensorflow:From c:\\Users\\Xazerer(CS24)\\AppData\\Local\\Programs\\Python\\Python312\\Lib\\site-packages\\foolbox\\models\\tensorflow.py:13: is_gpu_available (from tensorflow.python.framework.test_util) is deprecated and will be removed in a future version.\n",
      "Instructions for updating:\n",
      "Use `tf.config.list_physical_devices('GPU')` instead.\n"
     ]
    },
    {
     "data": {
      "image/png": "[encoded data removed]",
      "text/plain": [
       "<Figure size 1000x500 with 2 Axes>"
      ]
     },
     "metadata": {},
     "output_type": "display_data"
    }
   ],
   "source": [
    "# Инициализация модели для Foolbox\n",
    "fmodel = fb.TensorFlowModel(model, bounds=(-1, 1))\n",
    "\n",
    "# Подготовка изображения и метки\n",
    "image = tf.convert_to_tensor(test_images[1][None, ...], dtype=tf.float32)  # Добавляем размерность батча\n",
    "label = tf.convert_to_tensor(np.argmax(test_labels[0]), dtype=tf.int64)  # Получаем и преобразуем метку\n",
    "\n",
    "# Выполнение атаки DeepFool\n",
    "attack = fb.attacks.L2DeepFoolAttack(steps=10)\n",
    "advs, _, success = attack(fmodel, image, label[None], epsilons=0.01)\n",
    "\n",
    "# Вывод оригинального и атакованного изображений\n",
    "fig, axes = plt.subplots(1, 2, figsize=(10, 5))\n",
    "axes[0].set_title(\"Оригинальное изображение\")\n",
    "axes[0].imshow(image[0].numpy(), cmap=\"gray\")\n",
    "axes[0].axis('off')\n",
    "axes[1].set_title(\"Атакованное изображение (DeepFool)\")\n",
    "axes[1].imshow(advs[0].numpy(), cmap=\"gray\")\n",
    "axes[1].axis('off')\n",
    "plt.show()"
   ]
  },
  {
   "cell_type": "code",
   "execution_count": 12,
   "id": "476a380a",
   "metadata": {},
   "outputs": [
    {
     "name": "stdout",
     "output_type": "stream",
     "text": [
      "\u001b[1m313/313\u001b[0m \u001b[32m━━━━━━━━━━━━━━━━━━━━\u001b[0m\u001b[37m\u001b[0m \u001b[1m0s\u001b[0m 1ms/step - accuracy: 0.0000e+00 - loss: 143.6110  \n",
      "Точность на состязательных примерах (DeepFool): 0.0\n"
     ]
    }
   ],
   "source": [
    "# Создание набора противоречивых примеров для всего тестового набора\n",
    "adversarial_images = []\n",
    "\n",
    "# Обработка изображений\n",
    "for i in range(len(test_images)):\n",
    "    image = tf.convert_to_tensor(test_images[i], dtype=tf.float32)[None, ...]\n",
    "    label = np.argmax(test_labels[i])\n",
    "    label = tf.convert_to_tensor(label, dtype=tf.int64)\n",
    "    advs, _, success = attack(fmodel, image, label[None], epsilons=0.01)\n",
    "    adversarial_images.append(advs)\n",
    "\n",
    "adversarial_images = tf.concat(adversarial_images, axis=0)\n",
    "\n",
    "# Оценка точности модели на противоречивых примерах\n",
    "adversarial_loss, adversarial_acc = model.evaluate(adversarial_images, test_labels)\n",
    "print(f'Точность на состязательных примерах (DeepFool): {adversarial_acc}')"
   ]
  },
  {
   "cell_type": "markdown",
   "id": "be25b727",
   "metadata": {},
   "source": [
    "Вывод:\n",
    "\n",
    "Точность модели на атакованных примерах атаки DeepFool снизилась до 0%. Это демонстрирация уязвимости модели перед атаками при том что изменения в изображении минимальны "
   ]
  }
 ],
 "metadata": {
  "kernelspec": {
   "display_name": "Python 3",
   "language": "python",
   "name": "python3"
  },
  "language_info": {
   "codemirror_mode": {
    "name": "ipython",
    "version": 3
   },
   "file_extension": ".py",
   "mimetype": "text/x-python",
   "name": "python",
   "nbconvert_exporter": "python",
   "pygments_lexer": "ipython3",
   "version": "3.12.8"
  }
 },
 "nbformat": 4,
 "nbformat_minor": 5
}
